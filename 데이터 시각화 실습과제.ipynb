{
 "cells": [
  {
   "cell_type": "markdown",
   "id": "ddccf4cf",
   "metadata": {},
   "source": [
    "# IT와비즈니스혁신\n",
    "### 데이터 시각화 실습과제\n",
    "홍보광고학과 1813142 박현영"
   ]
  },
  {
   "cell_type": "markdown",
   "id": "b21115fb",
   "metadata": {},
   "source": [
    "---"
   ]
  },
  {
   "cell_type": "markdown",
   "id": "98e39be6",
   "metadata": {},
   "source": [
    "## 라이브러리와 데이터 불러오기"
   ]
  },
  {
   "cell_type": "code",
   "execution_count": 47,
   "id": "f7221918",
   "metadata": {},
   "outputs": [],
   "source": [
    "import pandas as pd\n",
    "import numpy as np\n",
    "import matplotlib as mpl\n",
    "import matplotlib.pyplot as plt\n",
    "import seaborn as sns\n",
    "import matplotlib.font_manager as fm"
   ]
  },
  {
   "cell_type": "code",
   "execution_count": 6,
   "id": "ea8edcc1",
   "metadata": {},
   "outputs": [
    {
     "data": {
      "text/html": [
       "<div>\n",
       "<style scoped>\n",
       "    .dataframe tbody tr th:only-of-type {\n",
       "        vertical-align: middle;\n",
       "    }\n",
       "\n",
       "    .dataframe tbody tr th {\n",
       "        vertical-align: top;\n",
       "    }\n",
       "\n",
       "    .dataframe thead th {\n",
       "        text-align: right;\n",
       "    }\n",
       "</style>\n",
       "<table border=\"1\" class=\"dataframe\">\n",
       "  <thead>\n",
       "    <tr style=\"text-align: right;\">\n",
       "      <th></th>\n",
       "      <th>기준년도</th>\n",
       "      <th>가입자일련번호</th>\n",
       "      <th>시도코드</th>\n",
       "      <th>성별코드</th>\n",
       "      <th>연령대코드(5세단위)</th>\n",
       "      <th>신장(5Cm단위)</th>\n",
       "      <th>체중(5Kg 단위)</th>\n",
       "      <th>허리둘레</th>\n",
       "      <th>시력(좌)</th>\n",
       "      <th>시력(우)</th>\n",
       "      <th>...</th>\n",
       "      <th>혈청크레아티닌</th>\n",
       "      <th>(혈청지오티)AST</th>\n",
       "      <th>(혈청지오티)ALT</th>\n",
       "      <th>감마지티피</th>\n",
       "      <th>흡연상태</th>\n",
       "      <th>음주여부</th>\n",
       "      <th>구강검진수검여부</th>\n",
       "      <th>치아우식증유무</th>\n",
       "      <th>치석</th>\n",
       "      <th>데이터공개일자</th>\n",
       "    </tr>\n",
       "  </thead>\n",
       "  <tbody>\n",
       "    <tr>\n",
       "      <th>0</th>\n",
       "      <td>2020</td>\n",
       "      <td>1</td>\n",
       "      <td>36</td>\n",
       "      <td>M</td>\n",
       "      <td>9</td>\n",
       "      <td>165</td>\n",
       "      <td>60</td>\n",
       "      <td>72.1</td>\n",
       "      <td>1.2</td>\n",
       "      <td>1.5</td>\n",
       "      <td>...</td>\n",
       "      <td>1.1</td>\n",
       "      <td>21.0</td>\n",
       "      <td>27.0</td>\n",
       "      <td>21.0</td>\n",
       "      <td>No</td>\n",
       "      <td>No</td>\n",
       "      <td>0</td>\n",
       "      <td>NaN</td>\n",
       "      <td>NaN</td>\n",
       "      <td>12/29/2021</td>\n",
       "    </tr>\n",
       "    <tr>\n",
       "      <th>1</th>\n",
       "      <td>2020</td>\n",
       "      <td>2</td>\n",
       "      <td>27</td>\n",
       "      <td>F</td>\n",
       "      <td>13</td>\n",
       "      <td>150</td>\n",
       "      <td>65</td>\n",
       "      <td>81.0</td>\n",
       "      <td>0.8</td>\n",
       "      <td>0.8</td>\n",
       "      <td>...</td>\n",
       "      <td>0.5</td>\n",
       "      <td>18.0</td>\n",
       "      <td>15.0</td>\n",
       "      <td>15.0</td>\n",
       "      <td>No</td>\n",
       "      <td>No</td>\n",
       "      <td>0</td>\n",
       "      <td>NaN</td>\n",
       "      <td>NaN</td>\n",
       "      <td>12/29/2021</td>\n",
       "    </tr>\n",
       "    <tr>\n",
       "      <th>2</th>\n",
       "      <td>2020</td>\n",
       "      <td>3</td>\n",
       "      <td>11</td>\n",
       "      <td>F</td>\n",
       "      <td>12</td>\n",
       "      <td>155</td>\n",
       "      <td>55</td>\n",
       "      <td>70.0</td>\n",
       "      <td>0.6</td>\n",
       "      <td>0.7</td>\n",
       "      <td>...</td>\n",
       "      <td>0.7</td>\n",
       "      <td>27.0</td>\n",
       "      <td>25.0</td>\n",
       "      <td>7.0</td>\n",
       "      <td>No</td>\n",
       "      <td>No</td>\n",
       "      <td>0</td>\n",
       "      <td>NaN</td>\n",
       "      <td>NaN</td>\n",
       "      <td>12/29/2021</td>\n",
       "    </tr>\n",
       "    <tr>\n",
       "      <th>3</th>\n",
       "      <td>2020</td>\n",
       "      <td>4</td>\n",
       "      <td>31</td>\n",
       "      <td>M</td>\n",
       "      <td>13</td>\n",
       "      <td>160</td>\n",
       "      <td>70</td>\n",
       "      <td>90.8</td>\n",
       "      <td>1.0</td>\n",
       "      <td>1.0</td>\n",
       "      <td>...</td>\n",
       "      <td>1.2</td>\n",
       "      <td>65.0</td>\n",
       "      <td>97.0</td>\n",
       "      <td>72.0</td>\n",
       "      <td>No</td>\n",
       "      <td>No</td>\n",
       "      <td>1</td>\n",
       "      <td>0.0</td>\n",
       "      <td>0.0</td>\n",
       "      <td>12/29/2021</td>\n",
       "    </tr>\n",
       "    <tr>\n",
       "      <th>4</th>\n",
       "      <td>2020</td>\n",
       "      <td>5</td>\n",
       "      <td>41</td>\n",
       "      <td>F</td>\n",
       "      <td>12</td>\n",
       "      <td>155</td>\n",
       "      <td>50</td>\n",
       "      <td>75.2</td>\n",
       "      <td>1.5</td>\n",
       "      <td>1.2</td>\n",
       "      <td>...</td>\n",
       "      <td>0.7</td>\n",
       "      <td>18.0</td>\n",
       "      <td>17.0</td>\n",
       "      <td>14.0</td>\n",
       "      <td>No</td>\n",
       "      <td>No</td>\n",
       "      <td>0</td>\n",
       "      <td>NaN</td>\n",
       "      <td>NaN</td>\n",
       "      <td>12/29/2021</td>\n",
       "    </tr>\n",
       "    <tr>\n",
       "      <th>...</th>\n",
       "      <td>...</td>\n",
       "      <td>...</td>\n",
       "      <td>...</td>\n",
       "      <td>...</td>\n",
       "      <td>...</td>\n",
       "      <td>...</td>\n",
       "      <td>...</td>\n",
       "      <td>...</td>\n",
       "      <td>...</td>\n",
       "      <td>...</td>\n",
       "      <td>...</td>\n",
       "      <td>...</td>\n",
       "      <td>...</td>\n",
       "      <td>...</td>\n",
       "      <td>...</td>\n",
       "      <td>...</td>\n",
       "      <td>...</td>\n",
       "      <td>...</td>\n",
       "      <td>...</td>\n",
       "      <td>...</td>\n",
       "      <td>...</td>\n",
       "    </tr>\n",
       "    <tr>\n",
       "      <th>9995</th>\n",
       "      <td>2020</td>\n",
       "      <td>9996</td>\n",
       "      <td>44</td>\n",
       "      <td>F</td>\n",
       "      <td>13</td>\n",
       "      <td>155</td>\n",
       "      <td>55</td>\n",
       "      <td>83.0</td>\n",
       "      <td>1.2</td>\n",
       "      <td>1.2</td>\n",
       "      <td>...</td>\n",
       "      <td>0.7</td>\n",
       "      <td>20.0</td>\n",
       "      <td>21.0</td>\n",
       "      <td>20.0</td>\n",
       "      <td>No</td>\n",
       "      <td>Yes</td>\n",
       "      <td>0</td>\n",
       "      <td>NaN</td>\n",
       "      <td>NaN</td>\n",
       "      <td>12/29/2021</td>\n",
       "    </tr>\n",
       "    <tr>\n",
       "      <th>9996</th>\n",
       "      <td>2020</td>\n",
       "      <td>9997</td>\n",
       "      <td>43</td>\n",
       "      <td>F</td>\n",
       "      <td>11</td>\n",
       "      <td>160</td>\n",
       "      <td>55</td>\n",
       "      <td>77.5</td>\n",
       "      <td>1.0</td>\n",
       "      <td>1.2</td>\n",
       "      <td>...</td>\n",
       "      <td>0.7</td>\n",
       "      <td>24.0</td>\n",
       "      <td>22.0</td>\n",
       "      <td>21.0</td>\n",
       "      <td>No</td>\n",
       "      <td>Yes</td>\n",
       "      <td>1</td>\n",
       "      <td>0.0</td>\n",
       "      <td>0.0</td>\n",
       "      <td>12/29/2021</td>\n",
       "    </tr>\n",
       "    <tr>\n",
       "      <th>9997</th>\n",
       "      <td>2020</td>\n",
       "      <td>9998</td>\n",
       "      <td>45</td>\n",
       "      <td>M</td>\n",
       "      <td>12</td>\n",
       "      <td>160</td>\n",
       "      <td>80</td>\n",
       "      <td>93.0</td>\n",
       "      <td>0.6</td>\n",
       "      <td>0.6</td>\n",
       "      <td>...</td>\n",
       "      <td>1.0</td>\n",
       "      <td>22.0</td>\n",
       "      <td>27.0</td>\n",
       "      <td>35.0</td>\n",
       "      <td>No</td>\n",
       "      <td>No</td>\n",
       "      <td>0</td>\n",
       "      <td>NaN</td>\n",
       "      <td>NaN</td>\n",
       "      <td>12/29/2021</td>\n",
       "    </tr>\n",
       "    <tr>\n",
       "      <th>9998</th>\n",
       "      <td>2020</td>\n",
       "      <td>9999</td>\n",
       "      <td>27</td>\n",
       "      <td>F</td>\n",
       "      <td>15</td>\n",
       "      <td>155</td>\n",
       "      <td>55</td>\n",
       "      <td>78.0</td>\n",
       "      <td>0.6</td>\n",
       "      <td>1.0</td>\n",
       "      <td>...</td>\n",
       "      <td>1.0</td>\n",
       "      <td>26.0</td>\n",
       "      <td>24.0</td>\n",
       "      <td>21.0</td>\n",
       "      <td>No</td>\n",
       "      <td>No</td>\n",
       "      <td>0</td>\n",
       "      <td>NaN</td>\n",
       "      <td>NaN</td>\n",
       "      <td>12/29/2021</td>\n",
       "    </tr>\n",
       "    <tr>\n",
       "      <th>9999</th>\n",
       "      <td>2020</td>\n",
       "      <td>10000</td>\n",
       "      <td>45</td>\n",
       "      <td>F</td>\n",
       "      <td>13</td>\n",
       "      <td>160</td>\n",
       "      <td>75</td>\n",
       "      <td>100.0</td>\n",
       "      <td>0.5</td>\n",
       "      <td>0.5</td>\n",
       "      <td>...</td>\n",
       "      <td>0.6</td>\n",
       "      <td>32.0</td>\n",
       "      <td>24.0</td>\n",
       "      <td>30.0</td>\n",
       "      <td>NotNow</td>\n",
       "      <td>Yes</td>\n",
       "      <td>0</td>\n",
       "      <td>NaN</td>\n",
       "      <td>NaN</td>\n",
       "      <td>12/29/2021</td>\n",
       "    </tr>\n",
       "  </tbody>\n",
       "</table>\n",
       "<p>10000 rows × 31 columns</p>\n",
       "</div>"
      ],
      "text/plain": [
       "      기준년도  가입자일련번호  시도코드 성별코드  연령대코드(5세단위)  신장(5Cm단위)  체중(5Kg 단위)   허리둘레  \\\n",
       "0     2020        1    36    M            9        165          60   72.1   \n",
       "1     2020        2    27    F           13        150          65   81.0   \n",
       "2     2020        3    11    F           12        155          55   70.0   \n",
       "3     2020        4    31    M           13        160          70   90.8   \n",
       "4     2020        5    41    F           12        155          50   75.2   \n",
       "...    ...      ...   ...  ...          ...        ...         ...    ...   \n",
       "9995  2020     9996    44    F           13        155          55   83.0   \n",
       "9996  2020     9997    43    F           11        160          55   77.5   \n",
       "9997  2020     9998    45    M           12        160          80   93.0   \n",
       "9998  2020     9999    27    F           15        155          55   78.0   \n",
       "9999  2020    10000    45    F           13        160          75  100.0   \n",
       "\n",
       "      시력(좌)  시력(우)  ...  혈청크레아티닌  (혈청지오티)AST  (혈청지오티)ALT  감마지티피    흡연상태  음주여부  \\\n",
       "0       1.2    1.5  ...      1.1        21.0        27.0   21.0      No    No   \n",
       "1       0.8    0.8  ...      0.5        18.0        15.0   15.0      No    No   \n",
       "2       0.6    0.7  ...      0.7        27.0        25.0    7.0      No    No   \n",
       "3       1.0    1.0  ...      1.2        65.0        97.0   72.0      No    No   \n",
       "4       1.5    1.2  ...      0.7        18.0        17.0   14.0      No    No   \n",
       "...     ...    ...  ...      ...         ...         ...    ...     ...   ...   \n",
       "9995    1.2    1.2  ...      0.7        20.0        21.0   20.0      No   Yes   \n",
       "9996    1.0    1.2  ...      0.7        24.0        22.0   21.0      No   Yes   \n",
       "9997    0.6    0.6  ...      1.0        22.0        27.0   35.0      No    No   \n",
       "9998    0.6    1.0  ...      1.0        26.0        24.0   21.0      No    No   \n",
       "9999    0.5    0.5  ...      0.6        32.0        24.0   30.0  NotNow   Yes   \n",
       "\n",
       "      구강검진수검여부  치아우식증유무   치석     데이터공개일자  \n",
       "0            0      NaN  NaN  12/29/2021  \n",
       "1            0      NaN  NaN  12/29/2021  \n",
       "2            0      NaN  NaN  12/29/2021  \n",
       "3            1      0.0  0.0  12/29/2021  \n",
       "4            0      NaN  NaN  12/29/2021  \n",
       "...        ...      ...  ...         ...  \n",
       "9995         0      NaN  NaN  12/29/2021  \n",
       "9996         1      0.0  0.0  12/29/2021  \n",
       "9997         0      NaN  NaN  12/29/2021  \n",
       "9998         0      NaN  NaN  12/29/2021  \n",
       "9999         0      NaN  NaN  12/29/2021  \n",
       "\n",
       "[10000 rows x 31 columns]"
      ]
     },
     "execution_count": 6,
     "metadata": {},
     "output_type": "execute_result"
    }
   ],
   "source": [
    "df = pd.read_csv('health_data.csv')\n",
    "df"
   ]
  },
  {
   "cell_type": "markdown",
   "id": "ff9a3710",
   "metadata": {},
   "source": [
    "## 데이터 전처리 및 들여다보기"
   ]
  },
  {
   "cell_type": "markdown",
   "id": "c38cb4da",
   "metadata": {},
   "source": [
    "필요없는 데이터라고 생각되는 기준년도와 데이터공개일자 열을 drop 함수를 이용하여 삭제"
   ]
  },
  {
   "cell_type": "code",
   "execution_count": 8,
   "id": "36caf1dc",
   "metadata": {},
   "outputs": [],
   "source": [
    "df = df.drop(columns = '기준년도')"
   ]
  },
  {
   "cell_type": "code",
   "execution_count": 9,
   "id": "3e0d05af",
   "metadata": {},
   "outputs": [],
   "source": [
    "df = df.drop(columns = '데이터공개일자')"
   ]
  },
  {
   "cell_type": "code",
   "execution_count": 10,
   "id": "3313d1f0",
   "metadata": {},
   "outputs": [
    {
     "data": {
      "text/html": [
       "<div>\n",
       "<style scoped>\n",
       "    .dataframe tbody tr th:only-of-type {\n",
       "        vertical-align: middle;\n",
       "    }\n",
       "\n",
       "    .dataframe tbody tr th {\n",
       "        vertical-align: top;\n",
       "    }\n",
       "\n",
       "    .dataframe thead th {\n",
       "        text-align: right;\n",
       "    }\n",
       "</style>\n",
       "<table border=\"1\" class=\"dataframe\">\n",
       "  <thead>\n",
       "    <tr style=\"text-align: right;\">\n",
       "      <th></th>\n",
       "      <th>가입자일련번호</th>\n",
       "      <th>시도코드</th>\n",
       "      <th>성별코드</th>\n",
       "      <th>연령대코드(5세단위)</th>\n",
       "      <th>신장(5Cm단위)</th>\n",
       "      <th>체중(5Kg 단위)</th>\n",
       "      <th>허리둘레</th>\n",
       "      <th>시력(좌)</th>\n",
       "      <th>시력(우)</th>\n",
       "      <th>청력(좌)</th>\n",
       "      <th>...</th>\n",
       "      <th>요단백</th>\n",
       "      <th>혈청크레아티닌</th>\n",
       "      <th>(혈청지오티)AST</th>\n",
       "      <th>(혈청지오티)ALT</th>\n",
       "      <th>감마지티피</th>\n",
       "      <th>흡연상태</th>\n",
       "      <th>음주여부</th>\n",
       "      <th>구강검진수검여부</th>\n",
       "      <th>치아우식증유무</th>\n",
       "      <th>치석</th>\n",
       "    </tr>\n",
       "  </thead>\n",
       "  <tbody>\n",
       "    <tr>\n",
       "      <th>0</th>\n",
       "      <td>1</td>\n",
       "      <td>36</td>\n",
       "      <td>M</td>\n",
       "      <td>9</td>\n",
       "      <td>165</td>\n",
       "      <td>60</td>\n",
       "      <td>72.1</td>\n",
       "      <td>1.2</td>\n",
       "      <td>1.5</td>\n",
       "      <td>1</td>\n",
       "      <td>...</td>\n",
       "      <td>1.0</td>\n",
       "      <td>1.1</td>\n",
       "      <td>21.0</td>\n",
       "      <td>27.0</td>\n",
       "      <td>21.0</td>\n",
       "      <td>No</td>\n",
       "      <td>No</td>\n",
       "      <td>0</td>\n",
       "      <td>NaN</td>\n",
       "      <td>NaN</td>\n",
       "    </tr>\n",
       "    <tr>\n",
       "      <th>1</th>\n",
       "      <td>2</td>\n",
       "      <td>27</td>\n",
       "      <td>F</td>\n",
       "      <td>13</td>\n",
       "      <td>150</td>\n",
       "      <td>65</td>\n",
       "      <td>81.0</td>\n",
       "      <td>0.8</td>\n",
       "      <td>0.8</td>\n",
       "      <td>1</td>\n",
       "      <td>...</td>\n",
       "      <td>1.0</td>\n",
       "      <td>0.5</td>\n",
       "      <td>18.0</td>\n",
       "      <td>15.0</td>\n",
       "      <td>15.0</td>\n",
       "      <td>No</td>\n",
       "      <td>No</td>\n",
       "      <td>0</td>\n",
       "      <td>NaN</td>\n",
       "      <td>NaN</td>\n",
       "    </tr>\n",
       "    <tr>\n",
       "      <th>2</th>\n",
       "      <td>3</td>\n",
       "      <td>11</td>\n",
       "      <td>F</td>\n",
       "      <td>12</td>\n",
       "      <td>155</td>\n",
       "      <td>55</td>\n",
       "      <td>70.0</td>\n",
       "      <td>0.6</td>\n",
       "      <td>0.7</td>\n",
       "      <td>1</td>\n",
       "      <td>...</td>\n",
       "      <td>1.0</td>\n",
       "      <td>0.7</td>\n",
       "      <td>27.0</td>\n",
       "      <td>25.0</td>\n",
       "      <td>7.0</td>\n",
       "      <td>No</td>\n",
       "      <td>No</td>\n",
       "      <td>0</td>\n",
       "      <td>NaN</td>\n",
       "      <td>NaN</td>\n",
       "    </tr>\n",
       "    <tr>\n",
       "      <th>3</th>\n",
       "      <td>4</td>\n",
       "      <td>31</td>\n",
       "      <td>M</td>\n",
       "      <td>13</td>\n",
       "      <td>160</td>\n",
       "      <td>70</td>\n",
       "      <td>90.8</td>\n",
       "      <td>1.0</td>\n",
       "      <td>1.0</td>\n",
       "      <td>1</td>\n",
       "      <td>...</td>\n",
       "      <td>1.0</td>\n",
       "      <td>1.2</td>\n",
       "      <td>65.0</td>\n",
       "      <td>97.0</td>\n",
       "      <td>72.0</td>\n",
       "      <td>No</td>\n",
       "      <td>No</td>\n",
       "      <td>1</td>\n",
       "      <td>0.0</td>\n",
       "      <td>0.0</td>\n",
       "    </tr>\n",
       "    <tr>\n",
       "      <th>4</th>\n",
       "      <td>5</td>\n",
       "      <td>41</td>\n",
       "      <td>F</td>\n",
       "      <td>12</td>\n",
       "      <td>155</td>\n",
       "      <td>50</td>\n",
       "      <td>75.2</td>\n",
       "      <td>1.5</td>\n",
       "      <td>1.2</td>\n",
       "      <td>1</td>\n",
       "      <td>...</td>\n",
       "      <td>1.0</td>\n",
       "      <td>0.7</td>\n",
       "      <td>18.0</td>\n",
       "      <td>17.0</td>\n",
       "      <td>14.0</td>\n",
       "      <td>No</td>\n",
       "      <td>No</td>\n",
       "      <td>0</td>\n",
       "      <td>NaN</td>\n",
       "      <td>NaN</td>\n",
       "    </tr>\n",
       "    <tr>\n",
       "      <th>...</th>\n",
       "      <td>...</td>\n",
       "      <td>...</td>\n",
       "      <td>...</td>\n",
       "      <td>...</td>\n",
       "      <td>...</td>\n",
       "      <td>...</td>\n",
       "      <td>...</td>\n",
       "      <td>...</td>\n",
       "      <td>...</td>\n",
       "      <td>...</td>\n",
       "      <td>...</td>\n",
       "      <td>...</td>\n",
       "      <td>...</td>\n",
       "      <td>...</td>\n",
       "      <td>...</td>\n",
       "      <td>...</td>\n",
       "      <td>...</td>\n",
       "      <td>...</td>\n",
       "      <td>...</td>\n",
       "      <td>...</td>\n",
       "      <td>...</td>\n",
       "    </tr>\n",
       "    <tr>\n",
       "      <th>9995</th>\n",
       "      <td>9996</td>\n",
       "      <td>44</td>\n",
       "      <td>F</td>\n",
       "      <td>13</td>\n",
       "      <td>155</td>\n",
       "      <td>55</td>\n",
       "      <td>83.0</td>\n",
       "      <td>1.2</td>\n",
       "      <td>1.2</td>\n",
       "      <td>1</td>\n",
       "      <td>...</td>\n",
       "      <td>1.0</td>\n",
       "      <td>0.7</td>\n",
       "      <td>20.0</td>\n",
       "      <td>21.0</td>\n",
       "      <td>20.0</td>\n",
       "      <td>No</td>\n",
       "      <td>Yes</td>\n",
       "      <td>0</td>\n",
       "      <td>NaN</td>\n",
       "      <td>NaN</td>\n",
       "    </tr>\n",
       "    <tr>\n",
       "      <th>9996</th>\n",
       "      <td>9997</td>\n",
       "      <td>43</td>\n",
       "      <td>F</td>\n",
       "      <td>11</td>\n",
       "      <td>160</td>\n",
       "      <td>55</td>\n",
       "      <td>77.5</td>\n",
       "      <td>1.0</td>\n",
       "      <td>1.2</td>\n",
       "      <td>1</td>\n",
       "      <td>...</td>\n",
       "      <td>1.0</td>\n",
       "      <td>0.7</td>\n",
       "      <td>24.0</td>\n",
       "      <td>22.0</td>\n",
       "      <td>21.0</td>\n",
       "      <td>No</td>\n",
       "      <td>Yes</td>\n",
       "      <td>1</td>\n",
       "      <td>0.0</td>\n",
       "      <td>0.0</td>\n",
       "    </tr>\n",
       "    <tr>\n",
       "      <th>9997</th>\n",
       "      <td>9998</td>\n",
       "      <td>45</td>\n",
       "      <td>M</td>\n",
       "      <td>12</td>\n",
       "      <td>160</td>\n",
       "      <td>80</td>\n",
       "      <td>93.0</td>\n",
       "      <td>0.6</td>\n",
       "      <td>0.6</td>\n",
       "      <td>1</td>\n",
       "      <td>...</td>\n",
       "      <td>1.0</td>\n",
       "      <td>1.0</td>\n",
       "      <td>22.0</td>\n",
       "      <td>27.0</td>\n",
       "      <td>35.0</td>\n",
       "      <td>No</td>\n",
       "      <td>No</td>\n",
       "      <td>0</td>\n",
       "      <td>NaN</td>\n",
       "      <td>NaN</td>\n",
       "    </tr>\n",
       "    <tr>\n",
       "      <th>9998</th>\n",
       "      <td>9999</td>\n",
       "      <td>27</td>\n",
       "      <td>F</td>\n",
       "      <td>15</td>\n",
       "      <td>155</td>\n",
       "      <td>55</td>\n",
       "      <td>78.0</td>\n",
       "      <td>0.6</td>\n",
       "      <td>1.0</td>\n",
       "      <td>1</td>\n",
       "      <td>...</td>\n",
       "      <td>NaN</td>\n",
       "      <td>1.0</td>\n",
       "      <td>26.0</td>\n",
       "      <td>24.0</td>\n",
       "      <td>21.0</td>\n",
       "      <td>No</td>\n",
       "      <td>No</td>\n",
       "      <td>0</td>\n",
       "      <td>NaN</td>\n",
       "      <td>NaN</td>\n",
       "    </tr>\n",
       "    <tr>\n",
       "      <th>9999</th>\n",
       "      <td>10000</td>\n",
       "      <td>45</td>\n",
       "      <td>F</td>\n",
       "      <td>13</td>\n",
       "      <td>160</td>\n",
       "      <td>75</td>\n",
       "      <td>100.0</td>\n",
       "      <td>0.5</td>\n",
       "      <td>0.5</td>\n",
       "      <td>1</td>\n",
       "      <td>...</td>\n",
       "      <td>1.0</td>\n",
       "      <td>0.6</td>\n",
       "      <td>32.0</td>\n",
       "      <td>24.0</td>\n",
       "      <td>30.0</td>\n",
       "      <td>NotNow</td>\n",
       "      <td>Yes</td>\n",
       "      <td>0</td>\n",
       "      <td>NaN</td>\n",
       "      <td>NaN</td>\n",
       "    </tr>\n",
       "  </tbody>\n",
       "</table>\n",
       "<p>10000 rows × 29 columns</p>\n",
       "</div>"
      ],
      "text/plain": [
       "      가입자일련번호  시도코드 성별코드  연령대코드(5세단위)  신장(5Cm단위)  체중(5Kg 단위)   허리둘레  시력(좌)  \\\n",
       "0           1    36    M            9        165          60   72.1    1.2   \n",
       "1           2    27    F           13        150          65   81.0    0.8   \n",
       "2           3    11    F           12        155          55   70.0    0.6   \n",
       "3           4    31    M           13        160          70   90.8    1.0   \n",
       "4           5    41    F           12        155          50   75.2    1.5   \n",
       "...       ...   ...  ...          ...        ...         ...    ...    ...   \n",
       "9995     9996    44    F           13        155          55   83.0    1.2   \n",
       "9996     9997    43    F           11        160          55   77.5    1.0   \n",
       "9997     9998    45    M           12        160          80   93.0    0.6   \n",
       "9998     9999    27    F           15        155          55   78.0    0.6   \n",
       "9999    10000    45    F           13        160          75  100.0    0.5   \n",
       "\n",
       "      시력(우)  청력(좌)  ...  요단백  혈청크레아티닌  (혈청지오티)AST  (혈청지오티)ALT  감마지티피    흡연상태  \\\n",
       "0       1.5      1  ...  1.0      1.1        21.0        27.0   21.0      No   \n",
       "1       0.8      1  ...  1.0      0.5        18.0        15.0   15.0      No   \n",
       "2       0.7      1  ...  1.0      0.7        27.0        25.0    7.0      No   \n",
       "3       1.0      1  ...  1.0      1.2        65.0        97.0   72.0      No   \n",
       "4       1.2      1  ...  1.0      0.7        18.0        17.0   14.0      No   \n",
       "...     ...    ...  ...  ...      ...         ...         ...    ...     ...   \n",
       "9995    1.2      1  ...  1.0      0.7        20.0        21.0   20.0      No   \n",
       "9996    1.2      1  ...  1.0      0.7        24.0        22.0   21.0      No   \n",
       "9997    0.6      1  ...  1.0      1.0        22.0        27.0   35.0      No   \n",
       "9998    1.0      1  ...  NaN      1.0        26.0        24.0   21.0      No   \n",
       "9999    0.5      1  ...  1.0      0.6        32.0        24.0   30.0  NotNow   \n",
       "\n",
       "      음주여부  구강검진수검여부  치아우식증유무   치석  \n",
       "0       No         0      NaN  NaN  \n",
       "1       No         0      NaN  NaN  \n",
       "2       No         0      NaN  NaN  \n",
       "3       No         1      0.0  0.0  \n",
       "4       No         0      NaN  NaN  \n",
       "...    ...       ...      ...  ...  \n",
       "9995   Yes         0      NaN  NaN  \n",
       "9996   Yes         1      0.0  0.0  \n",
       "9997    No         0      NaN  NaN  \n",
       "9998    No         0      NaN  NaN  \n",
       "9999   Yes         0      NaN  NaN  \n",
       "\n",
       "[10000 rows x 29 columns]"
      ]
     },
     "execution_count": 10,
     "metadata": {},
     "output_type": "execute_result"
    }
   ],
   "source": [
    "df"
   ]
  },
  {
   "cell_type": "code",
   "execution_count": 104,
   "id": "03edc3e7",
   "metadata": {},
   "outputs": [
    {
     "data": {
      "text/plain": [
       "(10000, 29)"
      ]
     },
     "execution_count": 104,
     "metadata": {},
     "output_type": "execute_result"
    }
   ],
   "source": [
    "df.shape"
   ]
  },
  {
   "cell_type": "code",
   "execution_count": 11,
   "id": "39c1ec7b",
   "metadata": {
    "scrolled": false
   },
   "outputs": [
    {
     "name": "stdout",
     "output_type": "stream",
     "text": [
      "<class 'pandas.core.frame.DataFrame'>\n",
      "RangeIndex: 10000 entries, 0 to 9999\n",
      "Data columns (total 29 columns):\n",
      " #   Column       Non-Null Count  Dtype  \n",
      "---  ------       --------------  -----  \n",
      " 0   가입자일련번호      10000 non-null  int64  \n",
      " 1   시도코드         10000 non-null  int64  \n",
      " 2   성별코드         10000 non-null  object \n",
      " 3   연령대코드(5세단위)  10000 non-null  int64  \n",
      " 4   신장(5Cm단위)    10000 non-null  int64  \n",
      " 5   체중(5Kg 단위)   10000 non-null  int64  \n",
      " 6   허리둘레         10000 non-null  float64\n",
      " 7   시력(좌)        10000 non-null  float64\n",
      " 8   시력(우)        10000 non-null  float64\n",
      " 9   청력(좌)        10000 non-null  int64  \n",
      " 10  청력(우)        10000 non-null  int64  \n",
      " 11  수축기혈압        9912 non-null   float64\n",
      " 12  이완기혈압        9912 non-null   float64\n",
      " 13  식전혈당(공복혈당)   9912 non-null   float64\n",
      " 14  총콜레스테롤       4044 non-null   float64\n",
      " 15  트리글리세라이드     4044 non-null   float64\n",
      " 16  HDL콜레스테롤     4044 non-null   float64\n",
      " 17  LDL콜레스테롤     3977 non-null   float64\n",
      " 18  혈색소          9912 non-null   float64\n",
      " 19  요단백          9861 non-null   float64\n",
      " 20  혈청크레아티닌      9912 non-null   float64\n",
      " 21  (혈청지오티)AST   9912 non-null   float64\n",
      " 22  (혈청지오티)ALT   9912 non-null   float64\n",
      " 23  감마지티피        9912 non-null   float64\n",
      " 24  흡연상태         9998 non-null   object \n",
      " 25  음주여부         9999 non-null   object \n",
      " 26  구강검진수검여부     10000 non-null  int64  \n",
      " 27  치아우식증유무      3251 non-null   float64\n",
      " 28  치석           3251 non-null   float64\n",
      "dtypes: float64(18), int64(8), object(3)\n",
      "memory usage: 2.2+ MB\n"
     ]
    }
   ],
   "source": [
    "df.info()"
   ]
  },
  {
   "cell_type": "code",
   "execution_count": 105,
   "id": "a4a23e8a",
   "metadata": {
    "scrolled": true
   },
   "outputs": [
    {
     "data": {
      "text/html": [
       "<div>\n",
       "<style scoped>\n",
       "    .dataframe tbody tr th:only-of-type {\n",
       "        vertical-align: middle;\n",
       "    }\n",
       "\n",
       "    .dataframe tbody tr th {\n",
       "        vertical-align: top;\n",
       "    }\n",
       "\n",
       "    .dataframe thead th {\n",
       "        text-align: right;\n",
       "    }\n",
       "</style>\n",
       "<table border=\"1\" class=\"dataframe\">\n",
       "  <thead>\n",
       "    <tr style=\"text-align: right;\">\n",
       "      <th></th>\n",
       "      <th>가입자일련번호</th>\n",
       "      <th>시도코드</th>\n",
       "      <th>연령대코드(5세단위)</th>\n",
       "      <th>신장(5Cm단위)</th>\n",
       "      <th>체중(5Kg 단위)</th>\n",
       "      <th>허리둘레</th>\n",
       "      <th>시력(좌)</th>\n",
       "      <th>시력(우)</th>\n",
       "      <th>청력(좌)</th>\n",
       "      <th>청력(우)</th>\n",
       "      <th>...</th>\n",
       "      <th>LDL콜레스테롤</th>\n",
       "      <th>혈색소</th>\n",
       "      <th>요단백</th>\n",
       "      <th>혈청크레아티닌</th>\n",
       "      <th>(혈청지오티)AST</th>\n",
       "      <th>(혈청지오티)ALT</th>\n",
       "      <th>감마지티피</th>\n",
       "      <th>구강검진수검여부</th>\n",
       "      <th>치아우식증유무</th>\n",
       "      <th>치석</th>\n",
       "    </tr>\n",
       "  </thead>\n",
       "  <tbody>\n",
       "    <tr>\n",
       "      <th>count</th>\n",
       "      <td>10000.00000</td>\n",
       "      <td>10000.000000</td>\n",
       "      <td>10000.000000</td>\n",
       "      <td>10000.000000</td>\n",
       "      <td>10000.000000</td>\n",
       "      <td>10000.000000</td>\n",
       "      <td>10000.000000</td>\n",
       "      <td>10000.000000</td>\n",
       "      <td>10000.000000</td>\n",
       "      <td>10000.000000</td>\n",
       "      <td>...</td>\n",
       "      <td>3977.000000</td>\n",
       "      <td>9912.000000</td>\n",
       "      <td>9861.000000</td>\n",
       "      <td>9912.000000</td>\n",
       "      <td>9912.00000</td>\n",
       "      <td>9912.000000</td>\n",
       "      <td>9912.000000</td>\n",
       "      <td>10000.000000</td>\n",
       "      <td>3251.000000</td>\n",
       "      <td>3251.000000</td>\n",
       "    </tr>\n",
       "    <tr>\n",
       "      <th>mean</th>\n",
       "      <td>5000.50000</td>\n",
       "      <td>34.100100</td>\n",
       "      <td>11.931400</td>\n",
       "      <td>160.983500</td>\n",
       "      <td>63.034500</td>\n",
       "      <td>82.366100</td>\n",
       "      <td>0.933750</td>\n",
       "      <td>0.936750</td>\n",
       "      <td>1.050500</td>\n",
       "      <td>1.045200</td>\n",
       "      <td>...</td>\n",
       "      <td>116.263264</td>\n",
       "      <td>14.214255</td>\n",
       "      <td>1.119461</td>\n",
       "      <td>0.848484</td>\n",
       "      <td>27.58979</td>\n",
       "      <td>26.789851</td>\n",
       "      <td>38.098668</td>\n",
       "      <td>0.325100</td>\n",
       "      <td>0.175331</td>\n",
       "      <td>0.579514</td>\n",
       "    </tr>\n",
       "    <tr>\n",
       "      <th>std</th>\n",
       "      <td>2886.89568</td>\n",
       "      <td>12.394581</td>\n",
       "      <td>2.166048</td>\n",
       "      <td>9.211608</td>\n",
       "      <td>12.205294</td>\n",
       "      <td>9.561973</td>\n",
       "      <td>0.662057</td>\n",
       "      <td>0.641378</td>\n",
       "      <td>0.227936</td>\n",
       "      <td>0.218545</td>\n",
       "      <td>...</td>\n",
       "      <td>37.829955</td>\n",
       "      <td>1.555386</td>\n",
       "      <td>0.489782</td>\n",
       "      <td>0.301012</td>\n",
       "      <td>17.88442</td>\n",
       "      <td>23.735687</td>\n",
       "      <td>58.184579</td>\n",
       "      <td>0.468436</td>\n",
       "      <td>0.380308</td>\n",
       "      <td>0.591269</td>\n",
       "    </tr>\n",
       "    <tr>\n",
       "      <th>min</th>\n",
       "      <td>1.00000</td>\n",
       "      <td>11.000000</td>\n",
       "      <td>9.000000</td>\n",
       "      <td>130.000000</td>\n",
       "      <td>30.000000</td>\n",
       "      <td>53.000000</td>\n",
       "      <td>0.100000</td>\n",
       "      <td>0.100000</td>\n",
       "      <td>1.000000</td>\n",
       "      <td>1.000000</td>\n",
       "      <td>...</td>\n",
       "      <td>13.000000</td>\n",
       "      <td>5.100000</td>\n",
       "      <td>1.000000</td>\n",
       "      <td>0.050000</td>\n",
       "      <td>3.00000</td>\n",
       "      <td>2.000000</td>\n",
       "      <td>3.000000</td>\n",
       "      <td>0.000000</td>\n",
       "      <td>0.000000</td>\n",
       "      <td>0.000000</td>\n",
       "    </tr>\n",
       "    <tr>\n",
       "      <th>25%</th>\n",
       "      <td>2500.75000</td>\n",
       "      <td>27.000000</td>\n",
       "      <td>10.000000</td>\n",
       "      <td>155.000000</td>\n",
       "      <td>55.000000</td>\n",
       "      <td>76.000000</td>\n",
       "      <td>0.700000</td>\n",
       "      <td>0.700000</td>\n",
       "      <td>1.000000</td>\n",
       "      <td>1.000000</td>\n",
       "      <td>...</td>\n",
       "      <td>89.000000</td>\n",
       "      <td>13.200000</td>\n",
       "      <td>1.000000</td>\n",
       "      <td>0.700000</td>\n",
       "      <td>20.00000</td>\n",
       "      <td>16.000000</td>\n",
       "      <td>16.000000</td>\n",
       "      <td>0.000000</td>\n",
       "      <td>0.000000</td>\n",
       "      <td>0.000000</td>\n",
       "    </tr>\n",
       "    <tr>\n",
       "      <th>50%</th>\n",
       "      <td>5000.50000</td>\n",
       "      <td>41.000000</td>\n",
       "      <td>12.000000</td>\n",
       "      <td>160.000000</td>\n",
       "      <td>60.000000</td>\n",
       "      <td>82.000000</td>\n",
       "      <td>0.900000</td>\n",
       "      <td>0.900000</td>\n",
       "      <td>1.000000</td>\n",
       "      <td>1.000000</td>\n",
       "      <td>...</td>\n",
       "      <td>115.000000</td>\n",
       "      <td>14.200000</td>\n",
       "      <td>1.000000</td>\n",
       "      <td>0.800000</td>\n",
       "      <td>24.00000</td>\n",
       "      <td>21.000000</td>\n",
       "      <td>24.000000</td>\n",
       "      <td>0.000000</td>\n",
       "      <td>0.000000</td>\n",
       "      <td>1.000000</td>\n",
       "    </tr>\n",
       "    <tr>\n",
       "      <th>75%</th>\n",
       "      <td>7500.25000</td>\n",
       "      <td>44.000000</td>\n",
       "      <td>13.000000</td>\n",
       "      <td>170.000000</td>\n",
       "      <td>70.000000</td>\n",
       "      <td>88.900000</td>\n",
       "      <td>1.200000</td>\n",
       "      <td>1.200000</td>\n",
       "      <td>1.000000</td>\n",
       "      <td>1.000000</td>\n",
       "      <td>...</td>\n",
       "      <td>141.000000</td>\n",
       "      <td>15.300000</td>\n",
       "      <td>1.000000</td>\n",
       "      <td>1.000000</td>\n",
       "      <td>30.00000</td>\n",
       "      <td>31.000000</td>\n",
       "      <td>39.000000</td>\n",
       "      <td>1.000000</td>\n",
       "      <td>0.000000</td>\n",
       "      <td>1.000000</td>\n",
       "    </tr>\n",
       "    <tr>\n",
       "      <th>max</th>\n",
       "      <td>10000.00000</td>\n",
       "      <td>49.000000</td>\n",
       "      <td>18.000000</td>\n",
       "      <td>195.000000</td>\n",
       "      <td>130.000000</td>\n",
       "      <td>134.000000</td>\n",
       "      <td>9.900000</td>\n",
       "      <td>9.900000</td>\n",
       "      <td>3.000000</td>\n",
       "      <td>3.000000</td>\n",
       "      <td>...</td>\n",
       "      <td>297.000000</td>\n",
       "      <td>20.000000</td>\n",
       "      <td>6.000000</td>\n",
       "      <td>9.200000</td>\n",
       "      <td>692.00000</td>\n",
       "      <td>1146.000000</td>\n",
       "      <td>2322.000000</td>\n",
       "      <td>1.000000</td>\n",
       "      <td>1.000000</td>\n",
       "      <td>2.000000</td>\n",
       "    </tr>\n",
       "  </tbody>\n",
       "</table>\n",
       "<p>8 rows × 26 columns</p>\n",
       "</div>"
      ],
      "text/plain": [
       "           가입자일련번호          시도코드   연령대코드(5세단위)     신장(5Cm단위)    체중(5Kg 단위)  \\\n",
       "count  10000.00000  10000.000000  10000.000000  10000.000000  10000.000000   \n",
       "mean    5000.50000     34.100100     11.931400    160.983500     63.034500   \n",
       "std     2886.89568     12.394581      2.166048      9.211608     12.205294   \n",
       "min        1.00000     11.000000      9.000000    130.000000     30.000000   \n",
       "25%     2500.75000     27.000000     10.000000    155.000000     55.000000   \n",
       "50%     5000.50000     41.000000     12.000000    160.000000     60.000000   \n",
       "75%     7500.25000     44.000000     13.000000    170.000000     70.000000   \n",
       "max    10000.00000     49.000000     18.000000    195.000000    130.000000   \n",
       "\n",
       "               허리둘레         시력(좌)         시력(우)         청력(좌)         청력(우)  \\\n",
       "count  10000.000000  10000.000000  10000.000000  10000.000000  10000.000000   \n",
       "mean      82.366100      0.933750      0.936750      1.050500      1.045200   \n",
       "std        9.561973      0.662057      0.641378      0.227936      0.218545   \n",
       "min       53.000000      0.100000      0.100000      1.000000      1.000000   \n",
       "25%       76.000000      0.700000      0.700000      1.000000      1.000000   \n",
       "50%       82.000000      0.900000      0.900000      1.000000      1.000000   \n",
       "75%       88.900000      1.200000      1.200000      1.000000      1.000000   \n",
       "max      134.000000      9.900000      9.900000      3.000000      3.000000   \n",
       "\n",
       "       ...     LDL콜레스테롤          혈색소          요단백      혈청크레아티닌  (혈청지오티)AST  \\\n",
       "count  ...  3977.000000  9912.000000  9861.000000  9912.000000  9912.00000   \n",
       "mean   ...   116.263264    14.214255     1.119461     0.848484    27.58979   \n",
       "std    ...    37.829955     1.555386     0.489782     0.301012    17.88442   \n",
       "min    ...    13.000000     5.100000     1.000000     0.050000     3.00000   \n",
       "25%    ...    89.000000    13.200000     1.000000     0.700000    20.00000   \n",
       "50%    ...   115.000000    14.200000     1.000000     0.800000    24.00000   \n",
       "75%    ...   141.000000    15.300000     1.000000     1.000000    30.00000   \n",
       "max    ...   297.000000    20.000000     6.000000     9.200000   692.00000   \n",
       "\n",
       "        (혈청지오티)ALT        감마지티피      구강검진수검여부      치아우식증유무           치석  \n",
       "count  9912.000000  9912.000000  10000.000000  3251.000000  3251.000000  \n",
       "mean     26.789851    38.098668      0.325100     0.175331     0.579514  \n",
       "std      23.735687    58.184579      0.468436     0.380308     0.591269  \n",
       "min       2.000000     3.000000      0.000000     0.000000     0.000000  \n",
       "25%      16.000000    16.000000      0.000000     0.000000     0.000000  \n",
       "50%      21.000000    24.000000      0.000000     0.000000     1.000000  \n",
       "75%      31.000000    39.000000      1.000000     0.000000     1.000000  \n",
       "max    1146.000000  2322.000000      1.000000     1.000000     2.000000  \n",
       "\n",
       "[8 rows x 26 columns]"
      ]
     },
     "execution_count": 105,
     "metadata": {},
     "output_type": "execute_result"
    }
   ],
   "source": [
    "df.describe()"
   ]
  },
  {
   "cell_type": "markdown",
   "id": "952a5bf2",
   "metadata": {},
   "source": [
    "연령대코드(5세단위) 열의 min 값이 9(40~44세 연령대)라는 것을 확인하고 분석 시에 이러한 사실도 고려하게 되었음"
   ]
  },
  {
   "cell_type": "markdown",
   "id": "b621457d",
   "metadata": {},
   "source": [
    "---"
   ]
  },
  {
   "cell_type": "markdown",
   "id": "87d81f2f",
   "metadata": {},
   "source": [
    "\n",
    "\n",
    "\n",
    "## 1. 흡연 경험자와 비경험자의 구강검진 선택 비율 및 충치, 치석 보유 비교"
   ]
  },
  {
   "cell_type": "code",
   "execution_count": 12,
   "id": "8cb83cfe",
   "metadata": {},
   "outputs": [],
   "source": [
    "#필요한 열만 추출하여 새로운 데이터 프레임 생성\n",
    "df_tabaco = df[['성별코드','연령대코드(5세단위)','흡연상태','구강검진수검여부','치아우식증유무','치석']]"
   ]
  },
  {
   "cell_type": "code",
   "execution_count": 13,
   "id": "0a093267",
   "metadata": {},
   "outputs": [],
   "source": [
    "df_tabaco = df_tabaco.rename(columns = {'흡연상태':'smoking state'})\n",
    "df_tabaco = df_tabaco.rename(columns = {'구강검진수검여부':'dental'})\n",
    "df_tabaco = df_tabaco.rename(columns = {'치아우식증유무':'caries'})\n",
    "df_tabaco = df_tabaco.rename(columns = {'치석':'calculus'})"
   ]
  },
  {
   "cell_type": "code",
   "execution_count": 14,
   "id": "4f3844cd",
   "metadata": {},
   "outputs": [],
   "source": [
    "# 흡연상태의 Yes와 NotNow를 합쳐 흡연경험 열 생성\n",
    "df_tabaco['experience'] = df_tabaco['smoking state']"
   ]
  },
  {
   "cell_type": "code",
   "execution_count": 15,
   "id": "a24337c5",
   "metadata": {},
   "outputs": [],
   "source": [
    "df_tabaco['experience'].replace('NotNow', 'Yes',inplace=True)"
   ]
  },
  {
   "cell_type": "code",
   "execution_count": 106,
   "id": "e67ce7ab",
   "metadata": {
    "scrolled": false
   },
   "outputs": [
    {
     "data": {
      "text/html": [
       "<div>\n",
       "<style scoped>\n",
       "    .dataframe tbody tr th:only-of-type {\n",
       "        vertical-align: middle;\n",
       "    }\n",
       "\n",
       "    .dataframe tbody tr th {\n",
       "        vertical-align: top;\n",
       "    }\n",
       "\n",
       "    .dataframe thead th {\n",
       "        text-align: right;\n",
       "    }\n",
       "</style>\n",
       "<table border=\"1\" class=\"dataframe\">\n",
       "  <thead>\n",
       "    <tr style=\"text-align: right;\">\n",
       "      <th></th>\n",
       "      <th>성별코드</th>\n",
       "      <th>연령대코드(5세단위)</th>\n",
       "      <th>smoking state</th>\n",
       "      <th>dental</th>\n",
       "      <th>caries</th>\n",
       "      <th>calculus</th>\n",
       "      <th>experience</th>\n",
       "    </tr>\n",
       "  </thead>\n",
       "  <tbody>\n",
       "    <tr>\n",
       "      <th>0</th>\n",
       "      <td>M</td>\n",
       "      <td>9</td>\n",
       "      <td>No</td>\n",
       "      <td>0</td>\n",
       "      <td>NaN</td>\n",
       "      <td>NaN</td>\n",
       "      <td>No</td>\n",
       "    </tr>\n",
       "    <tr>\n",
       "      <th>1</th>\n",
       "      <td>F</td>\n",
       "      <td>13</td>\n",
       "      <td>No</td>\n",
       "      <td>0</td>\n",
       "      <td>NaN</td>\n",
       "      <td>NaN</td>\n",
       "      <td>No</td>\n",
       "    </tr>\n",
       "    <tr>\n",
       "      <th>2</th>\n",
       "      <td>F</td>\n",
       "      <td>12</td>\n",
       "      <td>No</td>\n",
       "      <td>0</td>\n",
       "      <td>NaN</td>\n",
       "      <td>NaN</td>\n",
       "      <td>No</td>\n",
       "    </tr>\n",
       "    <tr>\n",
       "      <th>3</th>\n",
       "      <td>M</td>\n",
       "      <td>13</td>\n",
       "      <td>No</td>\n",
       "      <td>1</td>\n",
       "      <td>0.0</td>\n",
       "      <td>0.0</td>\n",
       "      <td>No</td>\n",
       "    </tr>\n",
       "    <tr>\n",
       "      <th>4</th>\n",
       "      <td>F</td>\n",
       "      <td>12</td>\n",
       "      <td>No</td>\n",
       "      <td>0</td>\n",
       "      <td>NaN</td>\n",
       "      <td>NaN</td>\n",
       "      <td>No</td>\n",
       "    </tr>\n",
       "    <tr>\n",
       "      <th>...</th>\n",
       "      <td>...</td>\n",
       "      <td>...</td>\n",
       "      <td>...</td>\n",
       "      <td>...</td>\n",
       "      <td>...</td>\n",
       "      <td>...</td>\n",
       "      <td>...</td>\n",
       "    </tr>\n",
       "    <tr>\n",
       "      <th>9995</th>\n",
       "      <td>F</td>\n",
       "      <td>13</td>\n",
       "      <td>No</td>\n",
       "      <td>0</td>\n",
       "      <td>NaN</td>\n",
       "      <td>NaN</td>\n",
       "      <td>No</td>\n",
       "    </tr>\n",
       "    <tr>\n",
       "      <th>9996</th>\n",
       "      <td>F</td>\n",
       "      <td>11</td>\n",
       "      <td>No</td>\n",
       "      <td>1</td>\n",
       "      <td>0.0</td>\n",
       "      <td>0.0</td>\n",
       "      <td>No</td>\n",
       "    </tr>\n",
       "    <tr>\n",
       "      <th>9997</th>\n",
       "      <td>M</td>\n",
       "      <td>12</td>\n",
       "      <td>No</td>\n",
       "      <td>0</td>\n",
       "      <td>NaN</td>\n",
       "      <td>NaN</td>\n",
       "      <td>No</td>\n",
       "    </tr>\n",
       "    <tr>\n",
       "      <th>9998</th>\n",
       "      <td>F</td>\n",
       "      <td>15</td>\n",
       "      <td>No</td>\n",
       "      <td>0</td>\n",
       "      <td>NaN</td>\n",
       "      <td>NaN</td>\n",
       "      <td>No</td>\n",
       "    </tr>\n",
       "    <tr>\n",
       "      <th>9999</th>\n",
       "      <td>F</td>\n",
       "      <td>13</td>\n",
       "      <td>NotNow</td>\n",
       "      <td>0</td>\n",
       "      <td>NaN</td>\n",
       "      <td>NaN</td>\n",
       "      <td>Yes</td>\n",
       "    </tr>\n",
       "  </tbody>\n",
       "</table>\n",
       "<p>10000 rows × 7 columns</p>\n",
       "</div>"
      ],
      "text/plain": [
       "     성별코드  연령대코드(5세단위) smoking state  dental  caries  calculus experience\n",
       "0       M            9            No       0     NaN       NaN         No\n",
       "1       F           13            No       0     NaN       NaN         No\n",
       "2       F           12            No       0     NaN       NaN         No\n",
       "3       M           13            No       1     0.0       0.0         No\n",
       "4       F           12            No       0     NaN       NaN         No\n",
       "...   ...          ...           ...     ...     ...       ...        ...\n",
       "9995    F           13            No       0     NaN       NaN         No\n",
       "9996    F           11            No       1     0.0       0.0         No\n",
       "9997    M           12            No       0     NaN       NaN         No\n",
       "9998    F           15            No       0     NaN       NaN         No\n",
       "9999    F           13        NotNow       0     NaN       NaN        Yes\n",
       "\n",
       "[10000 rows x 7 columns]"
      ]
     },
     "execution_count": 106,
     "metadata": {},
     "output_type": "execute_result"
    }
   ],
   "source": [
    "df_tabaco"
   ]
  },
  {
   "cell_type": "code",
   "execution_count": 60,
   "id": "495f3561",
   "metadata": {
    "scrolled": true
   },
   "outputs": [
    {
     "name": "stdout",
     "output_type": "stream",
     "text": [
      "1841\n",
      "1926\n",
      "3767\n"
     ]
    }
   ],
   "source": [
    "print(sum(df_tabaco['smoking state']=='Yes'))\n",
    "print(sum(df_tabaco['smoking state']=='NotNow'))\n",
    "\n",
    "print(1841+1926) #experience == Yes 값이 잘 만들어졌는지 확인"
   ]
  },
  {
   "cell_type": "code",
   "execution_count": 61,
   "id": "128a58f9",
   "metadata": {
    "scrolled": true
   },
   "outputs": [
    {
     "data": {
      "text/plain": [
       "3767"
      ]
     },
     "execution_count": 61,
     "metadata": {},
     "output_type": "execute_result"
    }
   ],
   "source": [
    "sum(df_tabaco['experience']=='Yes')"
   ]
  },
  {
   "cell_type": "code",
   "execution_count": 107,
   "id": "61eb11fd",
   "metadata": {},
   "outputs": [
    {
     "data": {
      "text/html": [
       "<div>\n",
       "<style scoped>\n",
       "    .dataframe tbody tr th:only-of-type {\n",
       "        vertical-align: middle;\n",
       "    }\n",
       "\n",
       "    .dataframe tbody tr th {\n",
       "        vertical-align: top;\n",
       "    }\n",
       "\n",
       "    .dataframe thead th {\n",
       "        text-align: right;\n",
       "    }\n",
       "</style>\n",
       "<table border=\"1\" class=\"dataframe\">\n",
       "  <thead>\n",
       "    <tr style=\"text-align: right;\">\n",
       "      <th></th>\n",
       "      <th>연령대코드(5세단위)</th>\n",
       "      <th>dental</th>\n",
       "      <th>caries</th>\n",
       "      <th>calculus</th>\n",
       "    </tr>\n",
       "    <tr>\n",
       "      <th>experience</th>\n",
       "      <th></th>\n",
       "      <th></th>\n",
       "      <th></th>\n",
       "      <th></th>\n",
       "    </tr>\n",
       "  </thead>\n",
       "  <tbody>\n",
       "    <tr>\n",
       "      <th>No</th>\n",
       "      <td>12.163377</td>\n",
       "      <td>0.293853</td>\n",
       "      <td>0.140907</td>\n",
       "      <td>0.535773</td>\n",
       "    </tr>\n",
       "    <tr>\n",
       "      <th>Yes</th>\n",
       "      <td>11.547385</td>\n",
       "      <td>0.376958</td>\n",
       "      <td>0.219718</td>\n",
       "      <td>0.635915</td>\n",
       "    </tr>\n",
       "  </tbody>\n",
       "</table>\n",
       "</div>"
      ],
      "text/plain": [
       "            연령대코드(5세단위)    dental    caries  calculus\n",
       "experience                                           \n",
       "No            12.163377  0.293853  0.140907  0.535773\n",
       "Yes           11.547385  0.376958  0.219718  0.635915"
      ]
     },
     "execution_count": 107,
     "metadata": {},
     "output_type": "execute_result"
    }
   ],
   "source": [
    "df_tabaco.groupby(by='experience').mean()"
   ]
  },
  {
   "cell_type": "markdown",
   "id": "d1629788",
   "metadata": {},
   "source": [
    "#### 그래프 만들기"
   ]
  },
  {
   "cell_type": "code",
   "execution_count": 69,
   "id": "4b786fba",
   "metadata": {
    "scrolled": true
   },
   "outputs": [
    {
     "data": {
      "text/plain": [
       "<AxesSubplot:xlabel='experience', ylabel='dental'>"
      ]
     },
     "execution_count": 69,
     "metadata": {},
     "output_type": "execute_result"
    },
    {
     "data": {
      "image/png": "[encoded data removed]",
      "text/plain": [
       "<Figure size 432x288 with 1 Axes>"
      ]
     },
     "metadata": {
      "needs_background": "light"
     },
     "output_type": "display_data"
    }
   ],
   "source": [
    "sns.barplot(data=df_tabaco, x= 'experience', y= 'dental')"
   ]
  },
  {
   "cell_type": "markdown",
   "id": "72dd6da0",
   "metadata": {},
   "source": [
    "1: 흡연경험자와 비경험자의 구강검진 수검여부 선택 비율 그래프\n",
    "\n",
    "흡연 경험자 (Yes = (Yes + Not Now)) 의 구강검진 수검여부 평균값이 흡연 미경험자(No) 보다  높게 나타났다."
   ]
  },
  {
   "cell_type": "code",
   "execution_count": 97,
   "id": "d80166ad",
   "metadata": {
    "scrolled": false
   },
   "outputs": [
    {
     "data": {
      "text/plain": [
       "<AxesSubplot:xlabel='experience', ylabel='caries'>"
      ]
     },
     "execution_count": 97,
     "metadata": {},
     "output_type": "execute_result"
    },
    {
     "data": {
      "image/png": "[encoded data removed]",
      "text/plain": [
       "<Figure size 432x288 with 1 Axes>"
      ]
     },
     "metadata": {
      "needs_background": "light"
     },
     "output_type": "display_data"
    }
   ],
   "source": [
    "sns.barplot(data=df_tabaco, x='experience', y= 'caries')"
   ]
  },
  {
   "cell_type": "markdown",
   "id": "36e8a6f3",
   "metadata": {},
   "source": [
    "2: 흡연경험자와 비경험자의 충치 보유 여부 비율 그래프\n",
    "\n",
    "흡연 경험자 (Yes = (Yes + Not Now)) 의 충치 보유 평균값이 흡연 미경험자(No) 보다 높게 나타났다."
   ]
  },
  {
   "cell_type": "code",
   "execution_count": 100,
   "id": "086778c8",
   "metadata": {
    "scrolled": false
   },
   "outputs": [
    {
     "data": {
      "text/plain": [
       "<AxesSubplot:xlabel='experience', ylabel='calculus'>"
      ]
     },
     "execution_count": 100,
     "metadata": {},
     "output_type": "execute_result"
    },
    {
     "data": {
      "image/png": "[encoded data removed]",
      "text/plain": [
       "<Figure size 432x288 with 1 Axes>"
      ]
     },
     "metadata": {
      "needs_background": "light"
     },
     "output_type": "display_data"
    }
   ],
   "source": [
    "sns.barplot(data=df_tabaco, x='experience', y='calculus')"
   ]
  },
  {
   "cell_type": "markdown",
   "id": "8907150f",
   "metadata": {},
   "source": [
    "3: 흡연경험자와 비경험자의 치석 보유 여부 비율 그래프\n",
    "\n",
    "흡연 경험자 (Yes = (Yes + Not Now)) 의 치석 보유 평균값이 흡연 미경험자(No) 보다 높게 나타났다."
   ]
  },
  {
   "cell_type": "markdown",
   "id": "975027df",
   "metadata": {},
   "source": [
    "### 흡연 경험을 기준으로 구강검진여부와 충치, 치석 보유량의 평균을 내고, 이를 그래프화 해보니...\n",
    "\n",
    "\n",
    "\n",
    "구강검진 수검, 충치 보유, 치석 보유 여부 모든 면에서\n",
    "\n",
    "흡연 경험자 (Yes = (Yes + Not Now))가  흡연 미경험자(No) 보다 높은 값을 가진다는 것을 확인할 수 있었다.\n",
    "\n",
    "그래프 비교를 통해 담배는 구강건강에 해롭다는 사실을 한 눈에 파악할 수 있었다."
   ]
  },
  {
   "cell_type": "markdown",
   "id": "56290c3e",
   "metadata": {},
   "source": [
    "---"
   ]
  },
  {
   "cell_type": "markdown",
   "id": "ce2e3e31",
   "metadata": {},
   "source": [
    "## 2. 시력이 급격히 나빠지는 연령구간은 어디?"
   ]
  },
  {
   "cell_type": "code",
   "execution_count": 24,
   "id": "8e67a5dd",
   "metadata": {},
   "outputs": [],
   "source": [
    "df_see = df[['연령대코드(5세단위)','성별코드','시력(좌)','시력(우)']]"
   ]
  },
  {
   "cell_type": "code",
   "execution_count": 109,
   "id": "9b2830b0",
   "metadata": {},
   "outputs": [],
   "source": [
    "df_see['시력평균'] = (df['시력(좌)']+df['시력(우)'])/2"
   ]
  },
  {
   "cell_type": "code",
   "execution_count": 110,
   "id": "cee9de99",
   "metadata": {},
   "outputs": [
    {
     "data": {
      "text/plain": [
       "0       1.35\n",
       "1       0.80\n",
       "2       0.65\n",
       "3       1.00\n",
       "4       1.35\n",
       "        ... \n",
       "9995    1.20\n",
       "9996    1.10\n",
       "9997    0.60\n",
       "9998    0.80\n",
       "9999    0.50\n",
       "Name: 시력평균, Length: 10000, dtype: float64"
      ]
     },
     "execution_count": 110,
     "metadata": {},
     "output_type": "execute_result"
    }
   ],
   "source": [
    "df_see['시력평균']"
   ]
  },
  {
   "cell_type": "code",
   "execution_count": null,
   "id": "e2e17a6d",
   "metadata": {},
   "outputs": [],
   "source": [
    "df_see = df_see.rename(columns = {'연령대코드(5세단위)':'age'})\n",
    "df_see = df_see.rename(columns = {'시력평균':'see_mean'})"
   ]
  },
  {
   "cell_type": "code",
   "execution_count": 112,
   "id": "155cb6a6",
   "metadata": {},
   "outputs": [],
   "source": [
    "df_see['age'] = df_see['age'].replace([1,2,3,4,5,6,7,8,9,10,11,12,13,14,15,16,17,18], ['0~4', '5~9', '10~14', '15~19', '20~24', '25~29', '30~34', '35~39', '40~44', '45~49', '50~54', '55~59', '60~64', '65~69', '70~74', '75~79', '80~84', '85+'])"
   ]
  },
  {
   "cell_type": "code",
   "execution_count": 49,
   "id": "f89f616b",
   "metadata": {},
   "outputs": [],
   "source": [
    "mean_see = df_see.groupby(df_see['age'])['see_mean'].mean().to_frame().sort_values(by='age')"
   ]
  },
  {
   "cell_type": "markdown",
   "id": "4141cd30",
   "metadata": {},
   "source": [
    "#### 그래프 그리기"
   ]
  },
  {
   "cell_type": "code",
   "execution_count": 113,
   "id": "7f8c3ea5",
   "metadata": {},
   "outputs": [
    {
     "data": {
      "text/plain": [
       "<AxesSubplot:xlabel='age', ylabel='see_mean'>"
      ]
     },
     "execution_count": 113,
     "metadata": {},
     "output_type": "execute_result"
    },
    {
     "data": {
      "image/png": "[encoded data removed]",
      "text/plain": [
       "<Figure size 432x288 with 1 Axes>"
      ]
     },
     "metadata": {
      "needs_background": "light"
     },
     "output_type": "display_data"
    }
   ],
   "source": [
    "sns.lineplot(data = mean_see, x = mean_see.index ,y=\"see_mean\")"
   ]
  },
  {
   "cell_type": "markdown",
   "id": "75508d06",
   "metadata": {},
   "source": [
    "### 연령을 기준으로 시력 평균을 내고, 이를 그래프화 해보니...\n",
    "\n",
    "평균 시력이 '80~84 연령대'에서 급격히 감소하는 모양을 보였다.\n",
    "\n",
    "따라서 '80~84'연령대에 들어서서 눈이 살짝 침침해지더라도 일반적으로 일어나는 일이니 크게 놀라지 않아도 되겠다."
   ]
  },
  {
   "cell_type": "markdown",
   "id": "82f3a2da",
   "metadata": {},
   "source": [
    "---"
   ]
  },
  {
   "cell_type": "markdown",
   "id": "55a3b4c8",
   "metadata": {},
   "source": [
    "## 3. BMI 지수에 따른 허리둘레"
   ]
  },
  {
   "cell_type": "code",
   "execution_count": 115,
   "id": "aad4ec12",
   "metadata": {},
   "outputs": [],
   "source": [
    "df_bmi = df[['신장(5Cm단위)','체중(5Kg 단위)','허리둘레']]"
   ]
  },
  {
   "cell_type": "code",
   "execution_count": 122,
   "id": "a1f9cbc4",
   "metadata": {},
   "outputs": [],
   "source": [
    "df_bmi = df_bmi.rename(columns = {'허리둘레':'waist'})"
   ]
  },
  {
   "cell_type": "code",
   "execution_count": 124,
   "id": "1e5f8983",
   "metadata": {},
   "outputs": [],
   "source": [
    "df_bmi['bmi'] = df_bmi['체중(5Kg 단위)']/((df_bmi['신장(5Cm단위)']/100)**2)"
   ]
  },
  {
   "cell_type": "code",
   "execution_count": 119,
   "id": "490fb9de",
   "metadata": {},
   "outputs": [
    {
     "data": {
      "text/plain": [
       "0       22.038567\n",
       "1       28.888889\n",
       "2       22.892820\n",
       "3       27.343750\n",
       "4       20.811655\n",
       "          ...    \n",
       "9995    22.892820\n",
       "9996    21.484375\n",
       "9997    31.250000\n",
       "9998    22.892820\n",
       "9999    29.296875\n",
       "Name: bmi, Length: 10000, dtype: float64"
      ]
     },
     "execution_count": 119,
     "metadata": {},
     "output_type": "execute_result"
    }
   ],
   "source": [
    "df_bmi['bmi']"
   ]
  },
  {
   "cell_type": "code",
   "execution_count": 123,
   "id": "2342953d",
   "metadata": {},
   "outputs": [
    {
     "data": {
      "text/plain": [
       "<AxesSubplot:xlabel='bmi', ylabel='waist'>"
      ]
     },
     "execution_count": 123,
     "metadata": {},
     "output_type": "execute_result"
    },
    {
     "data": {
      "image/png": "[encoded data removed]",
      "text/plain": [
       "<Figure size 432x288 with 1 Axes>"
      ]
     },
     "metadata": {
      "needs_background": "light"
     },
     "output_type": "display_data"
    }
   ],
   "source": [
    "sns.scatterplot(data=df_bmi, x= 'bmi', y='waist')"
   ]
  },
  {
   "cell_type": "markdown",
   "id": "63d4852d",
   "metadata": {},
   "source": [
    "### bmi 지수와 허리 둘레의 관계를 그래프화 해보니...\n",
    "\n",
    "bmi지수는 신장과 체중만이 반영되어 있는 지수이기 때문에 근육의 무게 등은 고려되지 않는다는 한계가 있다.\n",
    "\n",
    "하지만 위 그래프를 보면 bmi지수와 허리둘레의 비례관계 확인이 가능하며\n",
    "\n",
    "bmi지수가 일반적으로 비만도 측정에 활용될 수 있다는 사실을 뒷받침하는 근거도 될 수 있겠다. \n",
    "\n",
    "또한 bmi가 설명할 수 없는 일부 경우는 무시할만하다고 생각된다."
   ]
  },
  {
   "cell_type": "code",
   "execution_count": null,
   "id": "8a3d80e6",
   "metadata": {},
   "outputs": [],
   "source": []
  }
 ],
 "metadata": {
  "kernelspec": {
   "display_name": "Python 3",
   "language": "python",
   "name": "python3"
  },
  "language_info": {
   "codemirror_mode": {
    "name": "ipython",
    "version": 3
   },
   "file_extension": ".py",
   "mimetype": "text/x-python",
   "name": "python",
   "nbconvert_exporter": "python",
   "pygments_lexer": "ipython3",
   "version": "3.8.8"
  }
 },
 "nbformat": 4,
 "nbformat_minor": 5
}
